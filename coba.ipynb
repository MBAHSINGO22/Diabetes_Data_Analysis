{
 "cells": [
  {
   "cell_type": "code",
   "execution_count": 16,
   "metadata": {},
   "outputs": [],
   "source": [
    "import pandas as pd\n"
   ]
  },
  {
   "cell_type": "code",
   "execution_count": 18,
   "metadata": {},
   "outputs": [],
   "source": [
    "\n",
    "df = pd.read_csv('diabetes_prediction_dataset.csv')\n"
   ]
  },
  {
   "cell_type": "code",
   "execution_count": 23,
   "metadata": {},
   "outputs": [
    {
     "name": "stdout",
     "output_type": "stream",
     "text": [
      " 10 Data Pertama:\n",
      "   gender   age  hypertension  heart_disease smoking_history    bmi  \\\n",
      "0  Female  80.0             0              1           never  25.19   \n",
      "1  Female  54.0             0              0         No Info  27.32   \n",
      "2    Male  28.0             0              0           never  27.32   \n",
      "3  Female  36.0             0              0         current  23.45   \n",
      "4    Male  76.0             1              1         current  20.14   \n",
      "5  Female  20.0             0              0           never  27.32   \n",
      "6  Female  44.0             0              0           never  19.31   \n",
      "7  Female  79.0             0              0         No Info  23.86   \n",
      "8    Male  42.0             0              0           never  33.64   \n",
      "9  Female  32.0             0              0           never  27.32   \n",
      "\n",
      "   HbA1c_level  blood_glucose_level  diabetes  \n",
      "0          6.6                  140         0  \n",
      "1          6.6                   80         0  \n",
      "2          5.7                  158         0  \n",
      "3          5.0                  155         0  \n",
      "4          4.8                  155         0  \n",
      "5          6.6                   85         0  \n",
      "6          6.5                  200         1  \n",
      "7          5.7                   85         0  \n",
      "8          4.8                  145         0  \n",
      "9          5.0                  100         0  \n",
      " 10 Data Terakhir:\n",
      "       gender   age  hypertension  heart_disease smoking_history    bmi  \\\n",
      "99990    Male  39.0             0              0         No Info  27.32   \n",
      "99991    Male  22.0             0              0         current  29.65   \n",
      "99992  Female  26.0             0              0           never  34.34   \n",
      "99993  Female  40.0             0              0           never  40.69   \n",
      "99994  Female  36.0             0              0         No Info  24.60   \n",
      "99995  Female  80.0             0              0         No Info  27.32   \n",
      "99996  Female   2.0             0              0         No Info  17.37   \n",
      "99997    Male  66.0             0              0          former  27.83   \n",
      "99998  Female  24.0             0              0           never  35.42   \n",
      "99999  Female  57.0             0              0         current  22.43   \n",
      "\n",
      "       HbA1c_level  blood_glucose_level  diabetes  \n",
      "99990          6.1                  100         0  \n",
      "99991          6.0                   80         0  \n",
      "99992          6.5                  160         0  \n",
      "99993          3.5                  155         0  \n",
      "99994          4.8                  145         0  \n",
      "99995          6.2                   90         0  \n",
      "99996          6.5                  100         0  \n",
      "99997          5.7                  155         0  \n",
      "99998          4.0                  100         0  \n",
      "99999          6.6                   90         0  \n"
     ]
    }
   ],
   "source": [
    "\n",
    "print(\" 10 Data Pertama:\")\n",
    "print(df.head(10))\n",
    "\n",
    "print(\" 10 Data Terakhir:\")\n",
    "print(df.tail(10))\n"
   ]
  },
  {
   "cell_type": "code",
   "execution_count": 22,
   "metadata": {},
   "outputs": [
    {
     "name": "stdout",
     "output_type": "stream",
     "text": [
      "Data Informasi:\n",
      "<class 'pandas.core.frame.DataFrame'>\n",
      "RangeIndex: 100000 entries, 0 to 99999\n",
      "Data columns (total 9 columns):\n",
      " #   Column               Non-Null Count   Dtype  \n",
      "---  ------               --------------   -----  \n",
      " 0   gender               100000 non-null  object \n",
      " 1   age                  100000 non-null  float64\n",
      " 2   hypertension         100000 non-null  int64  \n",
      " 3   heart_disease        100000 non-null  int64  \n",
      " 4   smoking_history      100000 non-null  object \n",
      " 5   bmi                  100000 non-null  float64\n",
      " 6   HbA1c_level          100000 non-null  float64\n",
      " 7   blood_glucose_level  100000 non-null  int64  \n",
      " 8   diabetes             100000 non-null  int64  \n",
      "dtypes: float64(3), int64(4), object(2)\n",
      "memory usage: 6.9+ MB\n"
     ]
    }
   ],
   "source": [
    "\n",
    "print(\"Data Informasi:\")\n",
    "df.info()\n"
   ]
  },
  {
   "cell_type": "code",
   "execution_count": 29,
   "metadata": {},
   "outputs": [
    {
     "name": "stdout",
     "output_type": "stream",
     "text": [
      "Kesalahan Data:\n",
      "gender                 0\n",
      "age                    0\n",
      "hypertension           0\n",
      "heart_disease          0\n",
      "smoking_history        0\n",
      "bmi                    0\n",
      "HbA1c_level            0\n",
      "blood_glucose_level    0\n",
      "diabetes               0\n",
      "dtype: int64\n"
     ]
    }
   ],
   "source": [
    "\n",
    "Cleaning_data = df.isnull().sum()\n",
    "print(\"Kesalahan Data:\")\n",
    "print(Cleaning_data)\n",
    "\n",
    "\n",
    "\n"
   ]
  }
 ],
 "metadata": {
  "kernelspec": {
   "display_name": "Python 3",
   "language": "python",
   "name": "python3"
  },
  "language_info": {
   "codemirror_mode": {
    "name": "ipython",
    "version": 3
   },
   "file_extension": ".py",
   "mimetype": "text/x-python",
   "name": "python",
   "nbconvert_exporter": "python",
   "pygments_lexer": "ipython3",
   "version": "3.12.3"
  }
 },
 "nbformat": 4,
 "nbformat_minor": 2
}
